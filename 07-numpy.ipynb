{
 "cells": [
  {
   "cell_type": "markdown",
   "metadata": {},
   "source": [
    "# Conditionals"
   ]
  },
  {
   "cell_type": "code",
   "execution_count": 3,
   "metadata": {},
   "outputs": [
    {
     "name": "stdout",
     "output_type": "stream",
     "text": [
      "Greater\n",
      "finished\n"
     ]
    }
   ],
   "source": [
    "num = 101\n",
    "if num > 100:\n",
    "    print(\"Greater\")\n",
    "else:\n",
    "    print(\"not greater\")\n",
    "print(\"finished\")"
   ]
  },
  {
   "cell_type": "code",
   "execution_count": 6,
   "metadata": {},
   "outputs": [
    {
     "name": "stdout",
     "output_type": "stream",
     "text": [
      "0 is zero\n"
     ]
    }
   ],
   "source": [
    "num = 0\n",
    "\n",
    "if num > 0:\n",
    "    print(num, 'is positive')\n",
    "elif num == 0:\n",
    "    print(num, 'is zero')\n",
    "else:\n",
    "    print(num, 'is negative')"
   ]
  },
  {
   "cell_type": "code",
   "execution_count": 7,
   "metadata": {},
   "outputs": [
    {
     "name": "stdout",
     "output_type": "stream",
     "text": [
      "at least one part is false\n"
     ]
    }
   ],
   "source": [
    "if (1 > 0) and (-1 > 0):\n",
    "    print('both parts are true')\n",
    "else:\n",
    "    print('at least one part is false')\n"
   ]
  },
  {
   "cell_type": "markdown",
   "metadata": {},
   "source": [
    "# Checking our data"
   ]
  },
  {
   "cell_type": "code",
   "execution_count": 9,
   "metadata": {},
   "outputs": [],
   "source": [
    "import numpy"
   ]
  },
  {
   "cell_type": "code",
   "execution_count": 10,
   "metadata": {},
   "outputs": [
    {
     "name": "stdout",
     "output_type": "stream",
     "text": [
      "Mean < 10\n"
     ]
    }
   ],
   "source": [
    "data = numpy.loadtxt('data/inflammation-01.csv', delimiter=',')\n",
    "mean = numpy.mean(data, axis=0)\n",
    "\n",
    "if mean[0] > 10:\n",
    "    print(\"Mean > 10\")\n",
    "else:\n",
    "    print(\"Mean < 10\")"
   ]
  },
  {
   "cell_type": "code",
   "execution_count": 13,
   "metadata": {},
   "outputs": [
    {
     "name": "stdout",
     "output_type": "stream",
     "text": [
      "C:\\Users\\yange\\Desktop\n"
     ]
    }
   ],
   "source": [
    "cd .."
   ]
  },
  {
   "cell_type": "code",
   "execution_count": 14,
   "metadata": {},
   "outputs": [
    {
     "name": "stdout",
     "output_type": "stream",
     "text": [
      "C:\\Users\\yange\\Desktop\\LearningPython\n"
     ]
    }
   ],
   "source": [
    "cd LearningPython"
   ]
  },
  {
   "cell_type": "code",
   "execution_count": 16,
   "metadata": {},
   "outputs": [
    {
     "name": "stdout",
     "output_type": "stream",
     "text": [
      "C:\\Users\\yange\\Desktop\\LearningPython\\data\n"
     ]
    }
   ],
   "source": [
    "cd data"
   ]
  },
  {
   "cell_type": "code",
   "execution_count": 19,
   "metadata": {},
   "outputs": [
    {
     "name": "stdout",
     "output_type": "stream",
     "text": [
      "inflammation-01.csv\n",
      "inflammation-02.csv\n",
      "inflammation-03.csv\n",
      "Suspicous data -check\n",
      "inflammation-04.csv\n",
      "inflammation-05.csv\n",
      "inflammation-06.csv\n",
      "inflammation-07.csv\n",
      "inflammation-08.csv\n",
      "Suspicous data -check\n",
      "inflammation-09.csv\n",
      "inflammation-10.csv\n",
      "inflammation-11.csv\n",
      "Suspicous data -check\n",
      "inflammation-12.csv\n"
     ]
    }
   ],
   "source": [
    "import glob\n",
    "filenames = sorted(glob.glob('inflammation-*.csv'))\n",
    "\n",
    "for filename in filenames:\n",
    "    print(filename)\n",
    "    data = numpy.loadtxt(filename, delimiter=',')\n",
    "    \n",
    "    min_value = numpy.min(data,axis=0)\n",
    "    \n",
    "    sum_of_min = numpy.sum(min_value)\n",
    "    \n",
    "    if sum_of_min == 0:\n",
    "        print(\"Suspicous data -check\")"
   ]
  },
  {
   "cell_type": "code",
   "execution_count": null,
   "metadata": {},
   "outputs": [],
   "source": []
  }
 ],
 "metadata": {
  "kernelspec": {
   "display_name": "Python 3",
   "language": "python",
   "name": "python3"
  },
  "language_info": {
   "codemirror_mode": {
    "name": "ipython",
    "version": 3
   },
   "file_extension": ".py",
   "mimetype": "text/x-python",
   "name": "python",
   "nbconvert_exporter": "python",
   "pygments_lexer": "ipython3",
   "version": "3.8.3"
  }
 },
 "nbformat": 4,
 "nbformat_minor": 4
}
